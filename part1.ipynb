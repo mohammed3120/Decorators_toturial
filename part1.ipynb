{
 "cells": [
  {
   "cell_type": "markdown",
   "id": "7f3bb4db",
   "metadata": {},
   "source": [
    "# First Class functions in Python"
   ]
  },
  {
   "cell_type": "markdown",
   "id": "ebe9e3f7",
   "metadata": {},
   "source": [
    "## Properties of first class functions:"
   ]
  },
  {
   "cell_type": "markdown",
   "id": "37a80400",
   "metadata": {},
   "source": [
    "#### 1- A function is an instance of the Object type.\n",
    "#### 2- You can store the function in a variable.\n",
    "#### 3- You can pass the function as a parameter to another function.\n",
    "#### 4- You can return the function from a function.\n",
    "#### 4- You can store them in data structures such as hash tables, lists, …"
   ]
  },
  {
   "cell_type": "markdown",
   "id": "9c80bf6b",
   "metadata": {},
   "source": [
    "## Example 1: Treating the functions as objects."
   ]
  },
  {
   "cell_type": "code",
   "execution_count": 1,
   "id": "32d275e7",
   "metadata": {},
   "outputs": [
    {
     "name": "stdout",
     "output_type": "stream",
     "text": [
      "HELLO\n",
      "HELLO\n"
     ]
    }
   ],
   "source": [
    "# Python program to illustrate functions\n",
    "# can be treated as objects\n",
    "def shout(text):\n",
    "    return text.upper()\n",
    "\n",
    "print(shout('Hello'))\n",
    "\n",
    "yell = shout\n",
    "\n",
    "print(yell('Hello'))"
   ]
  },
  {
   "cell_type": "markdown",
   "id": "1002ae31",
   "metadata": {},
   "source": [
    "#### In the above example, we have assigned the function shout to a variable. This will not call the function instead it takes the function object referenced by a shout and creates a second name pointing to it, yell."
   ]
  },
  {
   "cell_type": "markdown",
   "id": "39c172e5",
   "metadata": {},
   "source": [
    "## Example 2: Passing the function as an argument "
   ]
  },
  {
   "cell_type": "code",
   "execution_count": 2,
   "id": "79971a4a",
   "metadata": {},
   "outputs": [
    {
     "name": "stdout",
     "output_type": "stream",
     "text": [
      "HI, I AM CREATED BY A FUNCTION PASSED AS AN ARGUMENT.\n",
      "hi, i am created by a function passed as an argument.\n"
     ]
    }
   ],
   "source": [
    "# Python program to illustrate functions\n",
    "# can be passed as arguments to other functions\n",
    "def shout(text):\n",
    "    return text.upper()\n",
    "\n",
    "def whisper(text):\n",
    "    return text.lower()\n",
    "\n",
    "def greet(func):\n",
    "    # storing the function in a variable\n",
    "    greeting = func(\"\"\"Hi, I am created by a function passed as an argument.\"\"\")\n",
    "    print (greeting)\n",
    "\n",
    "greet(shout)\n",
    "greet(whisper)"
   ]
  },
  {
   "cell_type": "markdown",
   "id": "3147281a",
   "metadata": {},
   "source": [
    "#### In the above example, the greet function takes another function as a parameter (shout and whisper in this case). The function passed as an argument is then called inside the function greet."
   ]
  },
  {
   "cell_type": "markdown",
   "id": "f9213191",
   "metadata": {},
   "source": [
    "## Example 3: Returning functions from another function."
   ]
  },
  {
   "cell_type": "code",
   "execution_count": 3,
   "id": "96f2157d",
   "metadata": {},
   "outputs": [
    {
     "name": "stdout",
     "output_type": "stream",
     "text": [
      "25\n"
     ]
    }
   ],
   "source": [
    "# Python program to illustrate functions\n",
    "# Functions can return another function\n",
    "\n",
    "def create_adder(x):\n",
    "    def adder(y):\n",
    "        return x+y\n",
    "\n",
    "    return adder\n",
    "\n",
    "add_15 = create_adder(15)\n",
    "\n",
    "print(add_15(10))"
   ]
  },
  {
   "cell_type": "markdown",
   "id": "79dc1678",
   "metadata": {},
   "source": [
    "#### In the above example, we have created a function inside of another function and then have returned the function created inside.\n",
    "#### The above three examples depict the important concepts that are needed to understand decorators. After going through them let us now dive deep into decorators."
   ]
  }
 ],
 "metadata": {
  "kernelspec": {
   "display_name": "Python 3 (ipykernel)",
   "language": "python",
   "name": "python3"
  },
  "language_info": {
   "codemirror_mode": {
    "name": "ipython",
    "version": 3
   },
   "file_extension": ".py",
   "mimetype": "text/x-python",
   "name": "python",
   "nbconvert_exporter": "python",
   "pygments_lexer": "ipython3",
   "version": "3.9.12"
  }
 },
 "nbformat": 4,
 "nbformat_minor": 5
}
